{
 "cells": [
  {
   "cell_type": "code",
   "execution_count": 1,
   "metadata": {},
   "outputs": [
    {
     "name": "stdout",
     "output_type": "stream",
     "text": [
      "Requirement already satisfied: vpython in c:\\users\\gyalpo\\anaconda3\\lib\\site-packages (7.6.1)\n",
      "Requirement already satisfied: autobahn>=18.8.2 in c:\\users\\gyalpo\\anaconda3\\lib\\site-packages (from vpython) (20.7.1)\n",
      "Requirement already satisfied: jupyter-server-proxy in c:\\users\\gyalpo\\anaconda3\\lib\\site-packages (from vpython) (1.5.0)\n",
      "Requirement already satisfied: numpy in c:\\users\\gyalpo\\anaconda3\\lib\\site-packages (from vpython) (1.18.1)\n",
      "Requirement already satisfied: jupyter in c:\\users\\gyalpo\\anaconda3\\lib\\site-packages (from vpython) (1.0.0)\n",
      "Requirement already satisfied: ipykernel in c:\\users\\gyalpo\\anaconda3\\lib\\site-packages (from vpython) (5.1.4)\n",
      "Requirement already satisfied: cryptography>=2.7 in c:\\users\\gyalpo\\anaconda3\\lib\\site-packages (from autobahn>=18.8.2->vpython) (2.8)\n",
      "Requirement already satisfied: txaio>=20.3.1 in c:\\users\\gyalpo\\anaconda3\\lib\\site-packages (from autobahn>=18.8.2->vpython) (20.4.1)\n",
      "Requirement already satisfied: notebook in c:\\users\\gyalpo\\anaconda3\\lib\\site-packages (from jupyter-server-proxy->vpython) (6.0.3)\n",
      "Requirement already satisfied: simpervisor>=0.2 in c:\\users\\gyalpo\\anaconda3\\lib\\site-packages (from jupyter-server-proxy->vpython) (0.3)\n",
      "Requirement already satisfied: aiohttp in c:\\users\\gyalpo\\anaconda3\\lib\\site-packages (from jupyter-server-proxy->vpython) (3.6.2)\n",
      "Requirement already satisfied: qtconsole in c:\\users\\gyalpo\\anaconda3\\lib\\site-packages (from jupyter->vpython) (4.6.0)\n",
      "Requirement already satisfied: nbconvert in c:\\users\\gyalpo\\anaconda3\\lib\\site-packages (from jupyter->vpython) (5.6.1)\n",
      "Requirement already satisfied: jupyter-console in c:\\users\\gyalpo\\anaconda3\\lib\\site-packages (from jupyter->vpython) (6.1.0)\n",
      "Requirement already satisfied: ipywidgets in c:\\users\\gyalpo\\anaconda3\\lib\\site-packages (from jupyter->vpython) (7.5.1)\n",
      "Requirement already satisfied: jupyter-client in c:\\users\\gyalpo\\anaconda3\\lib\\site-packages (from ipykernel->vpython) (5.3.4)\n",
      "Requirement already satisfied: tornado>=4.2 in c:\\users\\gyalpo\\anaconda3\\lib\\site-packages (from ipykernel->vpython) (6.0.3)\n",
      "Requirement already satisfied: traitlets>=4.1.0 in c:\\users\\gyalpo\\anaconda3\\lib\\site-packages (from ipykernel->vpython) (4.3.3)\n",
      "Requirement already satisfied: ipython>=5.0.0 in c:\\users\\gyalpo\\anaconda3\\lib\\site-packages (from ipykernel->vpython) (7.12.0)\n",
      "Requirement already satisfied: six>=1.4.1 in c:\\users\\gyalpo\\anaconda3\\lib\\site-packages (from cryptography>=2.7->autobahn>=18.8.2->vpython) (1.14.0)\n",
      "Requirement already satisfied: cffi!=1.11.3,>=1.8 in c:\\users\\gyalpo\\anaconda3\\lib\\site-packages (from cryptography>=2.7->autobahn>=18.8.2->vpython) (1.14.0)\n",
      "Requirement already satisfied: Send2Trash in c:\\users\\gyalpo\\anaconda3\\lib\\site-packages (from notebook->jupyter-server-proxy->vpython) (1.5.0)\n",
      "Requirement already satisfied: prometheus-client in c:\\users\\gyalpo\\anaconda3\\lib\\site-packages (from notebook->jupyter-server-proxy->vpython) (0.7.1)\n",
      "Requirement already satisfied: ipython-genutils in c:\\users\\gyalpo\\anaconda3\\lib\\site-packages (from notebook->jupyter-server-proxy->vpython) (0.2.0)\n",
      "Requirement already satisfied: terminado>=0.8.1 in c:\\users\\gyalpo\\anaconda3\\lib\\site-packages (from notebook->jupyter-server-proxy->vpython) (0.8.3)\n",
      "Requirement already satisfied: jinja2 in c:\\users\\gyalpo\\anaconda3\\lib\\site-packages (from notebook->jupyter-server-proxy->vpython) (2.11.1)\n",
      "Requirement already satisfied: jupyter-core>=4.6.1 in c:\\users\\gyalpo\\anaconda3\\lib\\site-packages (from notebook->jupyter-server-proxy->vpython) (4.6.1)\n",
      "Requirement already satisfied: nbformat in c:\\users\\gyalpo\\anaconda3\\lib\\site-packages (from notebook->jupyter-server-proxy->vpython) (5.0.4)\n",
      "Requirement already satisfied: pyzmq>=17 in c:\\users\\gyalpo\\anaconda3\\lib\\site-packages (from notebook->jupyter-server-proxy->vpython) (18.1.1)\n",
      "Requirement already satisfied: chardet<4.0,>=2.0 in c:\\users\\gyalpo\\anaconda3\\lib\\site-packages (from aiohttp->jupyter-server-proxy->vpython) (3.0.4)\n",
      "Requirement already satisfied: async-timeout<4.0,>=3.0 in c:\\users\\gyalpo\\anaconda3\\lib\\site-packages (from aiohttp->jupyter-server-proxy->vpython) (3.0.1)\n",
      "Requirement already satisfied: yarl<2.0,>=1.0 in c:\\users\\gyalpo\\anaconda3\\lib\\site-packages (from aiohttp->jupyter-server-proxy->vpython) (1.6.0)\n",
      "Requirement already satisfied: attrs>=17.3.0 in c:\\users\\gyalpo\\anaconda3\\lib\\site-packages (from aiohttp->jupyter-server-proxy->vpython) (19.3.0)\n",
      "Requirement already satisfied: multidict<5.0,>=4.5 in c:\\users\\gyalpo\\anaconda3\\lib\\site-packages (from aiohttp->jupyter-server-proxy->vpython) (4.7.6)\n",
      "Requirement already satisfied: pygments in c:\\users\\gyalpo\\anaconda3\\lib\\site-packages (from qtconsole->jupyter->vpython) (2.5.2)\n",
      "Requirement already satisfied: pandocfilters>=1.4.1 in c:\\users\\gyalpo\\anaconda3\\lib\\site-packages (from nbconvert->jupyter->vpython) (1.4.2)\n",
      "Requirement already satisfied: testpath in c:\\users\\gyalpo\\anaconda3\\lib\\site-packages (from nbconvert->jupyter->vpython) (0.4.4)\n",
      "Requirement already satisfied: entrypoints>=0.2.2 in c:\\users\\gyalpo\\anaconda3\\lib\\site-packages (from nbconvert->jupyter->vpython) (0.3)\n",
      "Requirement already satisfied: defusedxml in c:\\users\\gyalpo\\anaconda3\\lib\\site-packages (from nbconvert->jupyter->vpython) (0.6.0)\n",
      "Requirement already satisfied: mistune<2,>=0.8.1 in c:\\users\\gyalpo\\anaconda3\\lib\\site-packages (from nbconvert->jupyter->vpython) (0.8.4)\n",
      "Requirement already satisfied: bleach in c:\\users\\gyalpo\\anaconda3\\lib\\site-packages (from nbconvert->jupyter->vpython) (3.1.0)\n",
      "Requirement already satisfied: prompt-toolkit!=3.0.0,!=3.0.1,<3.1.0,>=2.0.0 in c:\\users\\gyalpo\\anaconda3\\lib\\site-packages (from jupyter-console->jupyter->vpython) (3.0.3)\n",
      "Requirement already satisfied: widgetsnbextension~=3.5.0 in c:\\users\\gyalpo\\anaconda3\\lib\\site-packages (from ipywidgets->jupyter->vpython) (3.5.1)\n",
      "Requirement already satisfied: pywin32>=1.0; sys_platform == \"win32\" in c:\\users\\gyalpo\\anaconda3\\lib\\site-packages (from jupyter-client->ipykernel->vpython) (227)\n",
      "Requirement already satisfied: python-dateutil>=2.1 in c:\\users\\gyalpo\\anaconda3\\lib\\site-packages (from jupyter-client->ipykernel->vpython) (2.8.1)\n",
      "Requirement already satisfied: decorator in c:\\users\\gyalpo\\anaconda3\\lib\\site-packages (from traitlets>=4.1.0->ipykernel->vpython) (4.4.1)\n",
      "Requirement already satisfied: setuptools>=18.5 in c:\\users\\gyalpo\\anaconda3\\lib\\site-packages (from ipython>=5.0.0->ipykernel->vpython) (45.2.0.post20200210)\n",
      "Requirement already satisfied: pickleshare in c:\\users\\gyalpo\\anaconda3\\lib\\site-packages (from ipython>=5.0.0->ipykernel->vpython) (0.7.5)\n",
      "Requirement already satisfied: jedi>=0.10 in c:\\users\\gyalpo\\anaconda3\\lib\\site-packages (from ipython>=5.0.0->ipykernel->vpython) (0.14.1)\n",
      "Requirement already satisfied: colorama; sys_platform == \"win32\" in c:\\users\\gyalpo\\anaconda3\\lib\\site-packages (from ipython>=5.0.0->ipykernel->vpython) (0.4.3)\n",
      "Requirement already satisfied: backcall in c:\\users\\gyalpo\\anaconda3\\lib\\site-packages (from ipython>=5.0.0->ipykernel->vpython) (0.1.0)\n",
      "Requirement already satisfied: pycparser in c:\\users\\gyalpo\\anaconda3\\lib\\site-packages (from cffi!=1.11.3,>=1.8->cryptography>=2.7->autobahn>=18.8.2->vpython) (2.19)\n",
      "Requirement already satisfied: MarkupSafe>=0.23 in c:\\users\\gyalpo\\anaconda3\\lib\\site-packages (from jinja2->notebook->jupyter-server-proxy->vpython) (1.1.1)\n",
      "Requirement already satisfied: jsonschema!=2.5.0,>=2.4 in c:\\users\\gyalpo\\anaconda3\\lib\\site-packages (from nbformat->notebook->jupyter-server-proxy->vpython) (3.2.0)\n",
      "Requirement already satisfied: typing-extensions>=3.7.4; python_version < \"3.8\" in c:\\users\\gyalpo\\anaconda3\\lib\\site-packages (from yarl<2.0,>=1.0->aiohttp->jupyter-server-proxy->vpython) (3.7.4.3)\n",
      "Requirement already satisfied: idna>=2.0 in c:\\users\\gyalpo\\anaconda3\\lib\\site-packages (from yarl<2.0,>=1.0->aiohttp->jupyter-server-proxy->vpython) (2.8)\n",
      "Requirement already satisfied: webencodings in c:\\users\\gyalpo\\anaconda3\\lib\\site-packages (from bleach->nbconvert->jupyter->vpython) (0.5.1)\n",
      "Requirement already satisfied: wcwidth in c:\\users\\gyalpo\\anaconda3\\lib\\site-packages (from prompt-toolkit!=3.0.0,!=3.0.1,<3.1.0,>=2.0.0->jupyter-console->jupyter->vpython) (0.1.8)\n",
      "Requirement already satisfied: parso>=0.5.0 in c:\\users\\gyalpo\\anaconda3\\lib\\site-packages (from jedi>=0.10->ipython>=5.0.0->ipykernel->vpython) (0.5.2)\n",
      "Requirement already satisfied: pyrsistent>=0.14.0 in c:\\users\\gyalpo\\anaconda3\\lib\\site-packages (from jsonschema!=2.5.0,>=2.4->nbformat->notebook->jupyter-server-proxy->vpython) (0.15.7)\n",
      "Requirement already satisfied: importlib-metadata; python_version < \"3.8\" in c:\\users\\gyalpo\\anaconda3\\lib\\site-packages (from jsonschema!=2.5.0,>=2.4->nbformat->notebook->jupyter-server-proxy->vpython) (1.5.0)\n",
      "Requirement already satisfied: zipp>=0.5 in c:\\users\\gyalpo\\anaconda3\\lib\\site-packages (from importlib-metadata; python_version < \"3.8\"->jsonschema!=2.5.0,>=2.4->nbformat->notebook->jupyter-server-proxy->vpython) (2.2.0)\n",
      "Note: you may need to restart the kernel to use updated packages.\n"
     ]
    }
   ],
   "source": [
    "pip install vpython"
   ]
  },
  {
   "cell_type": "code",
   "execution_count": 8,
   "metadata": {},
   "outputs": [],
   "source": [
    "import vpython"
   ]
  },
  {
   "cell_type": "code",
   "execution_count": 9,
   "metadata": {},
   "outputs": [],
   "source": [
    "box()"
   ]
  },
  {
   "cell_type": "code",
   "execution_count": null,
   "metadata": {},
   "outputs": [],
   "source": []
  }
 ],
 "metadata": {
  "kernelspec": {
   "display_name": "Python 3",
   "language": "python",
   "name": "python3"
  },
  "language_info": {
   "codemirror_mode": {
    "name": "ipython",
    "version": 3
   },
   "file_extension": ".py",
   "mimetype": "text/x-python",
   "name": "python",
   "nbconvert_exporter": "python",
   "pygments_lexer": "ipython3",
   "version": "3.7.6"
  }
 },
 "nbformat": 4,
 "nbformat_minor": 4
}
